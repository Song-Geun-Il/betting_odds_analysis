{
 "cells": [
  {
   "cell_type": "code",
   "execution_count": 1,
   "metadata": {},
   "outputs": [],
   "source": [
    "import requests\n",
    "import urllib.request\n",
    "from bs4 import BeautifulSoup\n",
    "from selenium import webdriver\n",
    "\n",
    "import time\n",
    "from time import gmtime, strftime\n",
    "\n",
    "import datetime\n",
    "import pandas as pd\n",
    "import os\n",
    "import numpy as np\n",
    "import json\n",
    "\n",
    "now=strftime('%Y-%m-%d',gmtime())\n",
    "current=pd.to_datetime(str(datetime.datetime.today())[:10])"
   ]
  },
  {
   "cell_type": "markdown",
   "metadata": {},
   "source": [
    "# zentoto 사이트의 경기 링크 크롤링"
   ]
  },
  {
   "cell_type": "code",
   "execution_count": 2,
   "metadata": {},
   "outputs": [],
   "source": [
    "driver=webdriver.Chrome(\"C:\\\\Users\\\\PC\\\\Documents\\\\chromedriver_win32\\\\chromedriver\")\n",
    "game_link=[]\n",
    "import datetime\n",
    "import numpy as np\n",
    "for i in range(0,(pd.to_datetime(current)-pd.to_datetime('2018-10-01')).days-1):\n",
    "    date=pd.to_datetime('2018-10-01')+ datetime.timedelta(days=i)\n",
    "    url='https://www.zentoto.com/live/'+str(date.year)+'/'+np.asscalar(np.where(date.month<10,'0'+str(date.month),str(date.month)))+'/'+np.asscalar(np.where(date.day<10,'0'+str(date.day),str(date.day)))\n",
    "    driver.get(url)\n",
    "    game_link = game_link+[x.get_attribute('href') for x in driver.find_elements_by_css_selector('.list.proto-game > a')]\n",
    "    game_link = game_link+[x.get_attribute('href') for x in driver.find_elements_by_css_selector('.list.proto-not > a')]\n",
    "driver.close()"
   ]
  },
  {
   "cell_type": "markdown",
   "metadata": {},
   "source": [
    "# 각 경기별로 배당흐름 크롤링"
   ]
  },
  {
   "cell_type": "code",
   "execution_count": 3,
   "metadata": {},
   "outputs": [],
   "source": [
    "def get_odds_flow(link):\n",
    "    \n",
    "    home_win_bet = []\n",
    "    home_draw_bet = []\n",
    "    home_lose_bet = []\n",
    "\n",
    "    con = requests.get(link+'#odds')\n",
    "    soup = BeautifulSoup(con.content, 'lxml')\n",
    "\n",
    "    infoTable = soup.find(\"table\",{\"class\":\"wikitable sortable\"})\n",
    "    \n",
    "    a = soup.select('#odds > div > table > tbody > tr > td')\n",
    "    bet = pd.DataFrame({\"win\":[], \"draw\":[], \"lose\":[]})\n",
    "    j = 1\n",
    "    k=0\n",
    "    for i in soup.select('#odds > div > table > tbody > tr > td > span'):\n",
    "        if j%3 == 1 :\n",
    "            win = i.text\n",
    "            j+=1\n",
    "        elif j%3 == 2 :\n",
    "            draw = i.text\n",
    "            j+=1\n",
    "        elif j%3 == 0 :\n",
    "            lose = i.text\n",
    "            bet.loc[k] = [win, draw, lose]\n",
    "            j+=1\n",
    "            k+=1\n",
    "\n",
    "    j=0\n",
    "    date_list=[]\n",
    "    for i in soup.select('#odds > div > table > tbody > tr > td'):\n",
    "        if j%5==0:\n",
    "            date_list.append(i.text)\n",
    "        j+=1\n",
    "\n",
    "    for var in ['win','draw','lose']:\n",
    "        bet[var] = bet[var].str.slice(0,4).astype(float)\n",
    "\n",
    "    bet['date']=date_list\n",
    "    bet['league_name']=soup.select_one('span.fts16').text\n",
    "    bet['game_date']=soup.select_one('p.fts12').text\n",
    "    bet['result']=soup.select_one('div.game-text.game-status-finish').text\n",
    "    teams=[x.text for x in soup.select('p.tac.name-kor')]\n",
    "    bet['home_team_kor']=teams[0]\n",
    "    bet['away_team_kor']=teams[1]\n",
    "\n",
    "    teams=[x.text for x in soup.select('p.tac.name-eng')]\n",
    "    bet['home_team_eng']=teams[0]\n",
    "    bet['away_team_eng']=teams[1]\n",
    "    return bet"
   ]
  },
  {
   "cell_type": "code",
   "execution_count": 4,
   "metadata": {
    "scrolled": true
   },
   "outputs": [],
   "source": [
    "agg={}\n",
    "not_work=[]\n",
    "for link in game_link:\n",
    "    try:\n",
    "        bet=get_odds_flow(link)\n",
    "        bet['game_link']=link\n",
    "        agg[link]=bet\n",
    "    except:\n",
    "        pass"
   ]
  },
  {
   "cell_type": "code",
   "execution_count": 5,
   "metadata": {},
   "outputs": [],
   "source": [
    "os.chdir('C:\\\\Users\\\\PC\\\\Documents\\\\odds')\n",
    "#문서 안에 odds 폴더를 만드시고 실행해주세요\n",
    "\n",
    "final=pd.concat(agg,ignore_index=True)\n",
    "final=final.rename(columns={'date':'odds_change_date'})\n",
    "final.to_csv(\"final_odds.csv\",index=False)"
   ]
  }
 ],
 "metadata": {
  "kernelspec": {
   "display_name": "Python 3",
   "language": "python",
   "name": "python3"
  },
  "language_info": {
   "codemirror_mode": {
    "name": "ipython",
    "version": 3
   },
   "file_extension": ".py",
   "mimetype": "text/x-python",
   "name": "python",
   "nbconvert_exporter": "python",
   "pygments_lexer": "ipython3",
   "version": "3.7.3"
  }
 },
 "nbformat": 4,
 "nbformat_minor": 2
}
