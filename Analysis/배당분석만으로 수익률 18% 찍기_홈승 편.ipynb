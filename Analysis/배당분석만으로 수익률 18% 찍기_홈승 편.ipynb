{
 "cells": [
  {
   "cell_type": "code",
   "execution_count": 1,
   "metadata": {},
   "outputs": [],
   "source": [
    "import os\n",
    "import pandas as pd\n",
    "import seaborn as sns\n",
    "import matplotlib.pyplot as plt\n",
    "import matplotlib.font_manager as fm\n",
    "import numpy as np\n",
    "\n",
    "from datetime import datetime\n",
    "from datetime import timedelta\n",
    "\n",
    "import lightgbm as lgb\n",
    "import shap\n",
    "\n",
    "from sklearn.model_selection import KFold\n",
    "from sklearn.tree import DecisionTreeRegressor\n",
    "from sklearn.tree import DecisionTreeClassifier\n",
    "\n",
    "import warnings\n",
    "warnings.filterwarnings(\"ignore\") "
   ]
  },
  {
   "cell_type": "code",
   "execution_count": 2,
   "metadata": {},
   "outputs": [],
   "source": [
    "path = 'C:/Windows/Fonts/malgun.ttf'\n",
    "font_name = fm.FontProperties(fname=path, size=50).get_name()\n",
    "plt.rc('font', family=font_name)"
   ]
  },
  {
   "cell_type": "code",
   "execution_count": 3,
   "metadata": {},
   "outputs": [],
   "source": [
    "os.chdir('C:\\\\Users\\\\PC\\\\Documents\\\\odds')\n",
    "odds_change_raw=pd.concat([pd.read_csv(\"final_odds_2018.csv\"),pd.read_csv(\"final_odds_2019.csv\")],axis=0).reset_index().drop(['index'],axis=1)\n",
    "# odds_change_raw=pd.read_csv(\"final_odds_2019.csv\")"
   ]
  },
  {
   "cell_type": "markdown",
   "metadata": {},
   "source": [
    "# 1. 데이터 전처리"
   ]
  },
  {
   "cell_type": "markdown",
   "metadata": {},
   "source": [
    "## 1.1 경기 결과 뽑기"
   ]
  },
  {
   "cell_type": "code",
   "execution_count": 4,
   "metadata": {},
   "outputs": [],
   "source": [
    "odds_change_raw['home_score']=odds_change_raw['result'].str.split(':',expand=True)[0].astype(float)\n",
    "odds_change_raw['away_score']=odds_change_raw['result'].str.split(':',expand=True)[1].astype(float)\n",
    "odds_change_raw['game_date']=pd.to_datetime(odds_change_raw['game_date'].str.replace('(','').str.replace(')',''))\n",
    "odds_change_raw['odds_change_date']=pd.to_datetime(odds_change_raw['odds_change_date'])\n",
    "odds_change_raw['result']=np.where(odds_change_raw['home_score']>odds_change_raw['away_score'],'win',np.where(odds_change_raw['home_score']==odds_change_raw['away_score'],'draw','lose'))"
   ]
  },
  {
   "cell_type": "markdown",
   "metadata": {},
   "source": [
    "## 1.2 Feature Engineering"
   ]
  },
  {
   "cell_type": "code",
   "execution_count": 5,
   "metadata": {
    "scrolled": true
   },
   "outputs": [],
   "source": [
    "def get_10_min_bef(x,result,sec):\n",
    "    try:\n",
    "        return x.loc[x['odds_change_date']<x['game_date'].iloc[0]-timedelta(seconds=sec)][result].iloc[-1]/2+x.loc[x['odds_change_date']>x['game_date'].iloc[0]-timedelta(seconds=sec)][result].iloc[0]/2\n",
    "    except:\n",
    "        return np.nan\n",
    "\n",
    "a2=odds_change_raw.groupby(['game_link']).apply(lambda x: x['result'].iloc[0]).reset_index(name='result')\n",
    "a3=odds_change_raw.groupby(['game_link']).apply(lambda x: x['win'].iloc[-1]).reset_index(name='final_win_bedang')\n",
    "a4=odds_change_raw.groupby(['game_link']).apply(lambda x: x['win'].iloc[0]).reset_index(name='first_win_bedang')\n",
    "a5=odds_change_raw.groupby(['game_link']).apply(lambda x: x['draw'].iloc[-1]).reset_index(name='final_draw_bedang')\n",
    "a6=odds_change_raw.groupby(['game_link']).apply(lambda x: x['draw'].iloc[0]).reset_index(name='first_draw_bedang')\n",
    "a7=odds_change_raw.groupby(['game_link']).apply(lambda x: x['lose'].iloc[-1]).reset_index(name='final_lose_bedang')\n",
    "a8=odds_change_raw.groupby(['game_link']).apply(lambda x: x['lose'].iloc[0]).reset_index(name='first_lose_bedang')\n",
    "a9=odds_change_raw.groupby(['game_link']).apply(lambda x: get_10_min_bef(x,'win',600)).reset_index(name='10_win')\n",
    "a10=odds_change_raw.groupby(['game_link']).apply(lambda x: get_10_min_bef(x,'draw',600)).reset_index(name='10_draw')\n",
    "a11=odds_change_raw.groupby(['game_link']).apply(lambda x: get_10_min_bef(x,'lose',600)).reset_index(name='10_lose')\n",
    "a12=odds_change_raw.groupby(['game_link']).apply(lambda x: get_10_min_bef(x,'win',3600)).reset_index(name='60_win')\n",
    "a13=odds_change_raw.groupby(['game_link']).apply(lambda x: get_10_min_bef(x,'draw',3600)).reset_index(name='60_draw')\n",
    "a14=odds_change_raw.groupby(['game_link']).apply(lambda x: get_10_min_bef(x,'lose',3600)).reset_index(name='60_lose')\n",
    "a18=odds_change_raw.groupby(['game_link']).apply(lambda x: get_10_min_bef(x,'win',120)).reset_index(name='2_win')\n",
    "a19=odds_change_raw.groupby(['game_link']).apply(lambda x: get_10_min_bef(x,'draw',120)).reset_index(name='2_draw')\n",
    "a20=odds_change_raw.groupby(['game_link']).apply(lambda x: get_10_min_bef(x,'lose',120)).reset_index(name='2_lose')"
   ]
  },
  {
   "cell_type": "code",
   "execution_count": 8,
   "metadata": {},
   "outputs": [],
   "source": [
    "odds=pd.merge(a2,a3,on='game_link',how='left')\n",
    "odds=pd.merge(odds,a4,on='game_link',how='left')\n",
    "odds=pd.merge(odds,a5,on='game_link',how='left')\n",
    "odds=pd.merge(odds,a6,on='game_link',how='left')\n",
    "odds=pd.merge(odds,a7,on='game_link',how='left')\n",
    "odds=pd.merge(odds,a8,on='game_link',how='left')\n",
    "odds=pd.merge(odds,a9,on='game_link',how='left')\n",
    "odds=pd.merge(odds,a10,on='game_link',how='left')\n",
    "odds=pd.merge(odds,a11,on='game_link',how='left')\n",
    "odds=pd.merge(odds,a12,on='game_link',how='left')\n",
    "odds=pd.merge(odds,a13,on='game_link',how='left')\n",
    "odds=pd.merge(odds,a14,on='game_link',how='left')\n",
    "odds=pd.merge(odds,a18,on='game_link',how='left')\n",
    "odds=pd.merge(odds,a19,on='game_link',how='left')\n",
    "odds=pd.merge(odds,a20,on='game_link',how='left')\n",
    "odds=pd.merge(odds,odds_change_raw[['game_link','league_name']].drop_duplicates(['game_link']),on='game_link',how='left')"
   ]
  },
  {
   "cell_type": "code",
   "execution_count": 9,
   "metadata": {},
   "outputs": [],
   "source": [
    "for i in ['win','draw','lose']:\n",
    "    odds['diff_'+i]=odds['final_'+i+'_bedang']-odds['first_'+i+'_bedang']\n",
    "\n",
    "    odds['diff_2_first'+i]=odds['2_'+i]-odds['first_'+i+'_bedang']\n",
    "    odds['diff_10_'+i]=odds['final_'+i+'_bedang']-odds['10_'+i]\n",
    "    odds['diff_60_'+i]=odds['final_'+i+'_bedang']-odds['60_'+i]\n",
    "\n",
    "    odds['diff_2_60_'+i]=odds['2_'+i]-odds['60_'+i]\n",
    "    odds['diff_10_60_'+i]=odds['10_'+i]-odds['60_'+i]"
   ]
  },
  {
   "cell_type": "markdown",
   "metadata": {},
   "source": [
    "## 1.3 베팅 시 수익 타겟값 생성"
   ]
  },
  {
   "cell_type": "code",
   "execution_count": 10,
   "metadata": {},
   "outputs": [],
   "source": [
    "odds['win_bet_profit']=np.where(odds['result']=='win',odds['final_win_bedang']-1,-1)\n",
    "odds['draw_bet_profit']=np.where(odds['result']=='draw',odds['final_draw_bedang']-1,-1)\n",
    "odds['lose_bet_profit']=np.where(odds['result']=='lose',odds['final_lose_bedang']-1,-1)\n",
    "odds['result']=odds['result'].map({'win':2,'draw':1,'lose':0})"
   ]
  },
  {
   "cell_type": "markdown",
   "metadata": {},
   "source": [
    "## 1.4 모델링을 위한 준비"
   ]
  },
  {
   "cell_type": "code",
   "execution_count": 11,
   "metadata": {},
   "outputs": [],
   "source": [
    "param = {'num_leaves': 10,\n",
    "         'min_data_in_leaf': 5,\n",
    "         'objective': 'regression',\n",
    "         'max_depth': 10,\n",
    "         'learning_rate': 0.0125,\n",
    "         \"min_child_samples\": 10,\n",
    "         \"boosting\": \"gbdt\",\n",
    "         \"feature_fraction\": 0.7,\n",
    "         \"bagging_freq\": 1,\n",
    "         \"bagging_fraction\": 0.7,\n",
    "         \"bagging_seed\": 11,\n",
    "         \"metric\": 'rmse',\n",
    "         \"lambda_l1\": 0.2,\n",
    "         \"verbosity\": -1,\n",
    "         'random_state':9}"
   ]
  },
  {
   "cell_type": "code",
   "execution_count": 12,
   "metadata": {},
   "outputs": [],
   "source": [
    "folds = KFold(n_splits=5,shuffle=True,random_state=219)"
   ]
  },
  {
   "cell_type": "code",
   "execution_count": 13,
   "metadata": {},
   "outputs": [],
   "source": [
    "def get_pred(train,target,odds_ts,param=param):\n",
    "#     pred_val=np.zeros(len(train))\n",
    "    pred_ts=np.zeros(len(odds_ts))\n",
    "\n",
    "    for fold_, (trn_idx, val_idx) in enumerate(folds.split(train.values, target.values)):\n",
    "        trn_data = lgb.Dataset(train.iloc[trn_idx],label=target.iloc[trn_idx])\n",
    "        val_data = lgb.Dataset(train.iloc[val_idx],label=target.iloc[val_idx])\n",
    "\n",
    "        num_round = 10000\n",
    "        clf = lgb.train(param,\n",
    "                        trn_data,\n",
    "                        num_round,\n",
    "                        valid_sets = [trn_data, val_data],\n",
    "                        verbose_eval=0,\n",
    "                        early_stopping_rounds = 200)\n",
    "\n",
    "\n",
    "#         pred_val[val_idx] = clf.predict(train.iloc[val_idx], num_iteration=clf.best_iteration)\n",
    "\n",
    "        pred_ts += clf.predict(odds_ts[features], num_iteration=clf.best_iteration)\n",
    "    return clf,pred_ts"
   ]
  },
  {
   "cell_type": "code",
   "execution_count": 14,
   "metadata": {},
   "outputs": [],
   "source": [
    "features=['first_win_bedang','first_draw_bedang','first_lose_bedang',\n",
    "          '2_win', '2_draw', '2_lose',\n",
    "          'diff_2_firstwin','diff_2_firstdraw','diff_2_firstlose',\n",
    "          'diff_2_60_win','diff_2_60_draw','diff_2_60_lose']"
   ]
  },
  {
   "cell_type": "code",
   "execution_count": 15,
   "metadata": {},
   "outputs": [],
   "source": [
    "odds_under=odds.loc[odds['final_win_bedang']<2.21].reset_index().drop(['index'],axis=1)\n",
    "odds_over=odds.loc[odds['final_win_bedang']>2.21].reset_index().drop(['index'],axis=1)"
   ]
  },
  {
   "cell_type": "code",
   "execution_count": 16,
   "metadata": {},
   "outputs": [],
   "source": [
    "def val_data_shap_value(game_link_index,feature_names,odds=odds):\n",
    "\n",
    "#     odds_tr=odds.loc[~odds['game_link'].isin([temp_game_link])]\n",
    "#     odds_ts=odds.loc[odds['game_link'].isin([temp_game_link])]\n",
    "\n",
    "    odds_tr = odds.drop(game_link_index, errors=\"ignore\")\n",
    "    odds_ts = odds.iloc[game_link_index:game_link_index+1]\n",
    "\n",
    "    train=odds_tr[features]\n",
    "    lgb1,odds_ts['win_prof']=get_pred(train,odds_tr['win_bet_profit'],odds_ts,param)\n",
    "    odds_tr['result']=odds_tr['result'].map({2:'win',1:'draw',0:'lose'})\n",
    "    odds_ts['result']=odds_ts['result'].map({2:'win',1:'draw',0:'lose'})\n",
    "\n",
    "    explainer = shap.TreeExplainer(lgb1)\n",
    "    shap_values = explainer.shap_values(odds_ts[features])\n",
    "\n",
    "    shap_impact=pd.DataFrame({'league':odds_ts['league_name']})\n",
    "    for i in feature_names:\n",
    "        shap_impact[i+'_value']=odds_ts[i]\n",
    "        shap_impact[i+'_impact']=shap_values[:,features.index(i)]\n",
    "\n",
    "    return shap_impact"
   ]
  },
  {
   "cell_type": "markdown",
   "metadata": {},
   "source": [
    "# 2. 홈 승 배당이 2.21보다 낮을 때(feat 정배)"
   ]
  },
  {
   "cell_type": "markdown",
   "metadata": {},
   "source": [
    "타겟값(수익률)에 각 변수가 어떠한 영향을 미치는 지 알기 위해 SHAP value를 활용한다.\n",
    "\n",
    "##### SHAP value 탐색 과정\n",
    "1. 데이터에서 한 개의 row만 odds_ts로 잡고, 나머지는 모두 odds_tr으로 잡는다.\n",
    "2. odds_tr에서 5_fold_cross_validation을 이용해 5개의 Lightgbm을 train함과 동시에 odds_ts의 수익률을 5번 예측해서 평균을 낸다.\n",
    "3. 이렇게 나온 예측치에 대한 shap_value를 구해, 해당 변수가 수익률에 가지는 impact를 산정한다.\n",
    "4. 이 과정을 모든 row에 대해서 진행한다."
   ]
  },
  {
   "cell_type": "code",
   "execution_count": 17,
   "metadata": {},
   "outputs": [
    {
     "name": "stdout",
     "output_type": "stream",
     "text": [
      "100\n",
      "200\n",
      "300\n",
      "400\n",
      "500\n",
      "600\n",
      "700\n",
      "800\n",
      "900\n",
      "1000\n",
      "1100\n",
      "1200\n",
      "1300\n",
      "1400\n",
      "1500\n",
      "1600\n"
     ]
    }
   ],
   "source": [
    "agg_under={}\n",
    "index=0\n",
    "for temp_game_link in range(len(odds_under)):\n",
    "    index+=1\n",
    "    if index%100==0:\n",
    "        print(index)\n",
    "\n",
    "    agg_under[odds_under['game_link'].iloc[temp_game_link]]=val_data_shap_value(temp_game_link,['diff_2_firstwin', '2_win'],odds_under)"
   ]
  },
  {
   "cell_type": "code",
   "execution_count": 18,
   "metadata": {},
   "outputs": [],
   "source": [
    "shap_impact_under=pd.concat(agg_under,ignore_index=True)"
   ]
  },
  {
   "cell_type": "markdown",
   "metadata": {},
   "source": [
    "shap value를 구한 후, 각 변수가 수익률에 어떤 영향을 주는지 시각화한다."
   ]
  },
  {
   "cell_type": "markdown",
   "metadata": {},
   "source": [
    "## 2.1. 초기배당에서 베팅 마감 2분전까지 홈 승 배당의 변화"
   ]
  },
  {
   "cell_type": "code",
   "execution_count": 19,
   "metadata": {},
   "outputs": [
    {
     "data": {
      "text/plain": [
       "<matplotlib.lines.Line2D at 0x170e04b9400>"
      ]
     },
     "execution_count": 19,
     "metadata": {},
     "output_type": "execute_result"
    },
    {
     "data": {
      "image/png": "[encoded data removed]",
      "text/plain": [
       "<Figure size 432x288 with 1 Axes>"
      ]
     },
     "metadata": {
      "needs_background": "light"
     },
     "output_type": "display_data"
    }
   ],
   "source": [
    "impact=[]\n",
    "value=[]\n",
    "for i in range(40):\n",
    "    if len(shap_impact_under.loc[(shap_impact_under['diff_2_firstwin_value']>=i*0.05-1)&(shap_impact_under['diff_2_firstwin_value']<=i*0.05-1+0.05)])>10:\n",
    "        impact.append(shap_impact_under.loc[(shap_impact_under['diff_2_firstwin_value']>=i*0.05-1)&(shap_impact_under['diff_2_firstwin_value']<=i*0.05-1+0.05)]['diff_2_firstwin_impact'].mean())\n",
    "        value.append((i*0.05-1+i*0.05-1+0.05)/2)\n",
    "        \n",
    "\n",
    "plt.plot(value,impact,linewidth=3)\n",
    "plt.axhline(0, color='k', linewidth=1)\n",
    "plt.xlabel('초기배당에서 베팅 마감 2분전까지 홈 승 배당의 변화',fontsize=15)\n",
    "plt.ylabel('수익률',fontsize=15)\n",
    "plt.yticks([-0.04,-0.03,-0.02,-0.01,0,0.01,0.02], \n",
    "           ['-4%','-3%','-2%','-1%','0%','1%','2%'],\n",
    "           fontsize=13\n",
    "          )\n",
    "plt.xticks([-0.5,-0.4,-0.3,-0.2,-0.1,0,0.1,0.2,0.3], \n",
    "           ['-0.5','-0.4','-0.3','-0.2','-0.1','0','0.1','0.2','0.3'],\n",
    "           fontsize=13\n",
    "          )\n",
    "plt.text(-0.18,-0.02,'-0.1',color='r',fontsize=14)\n",
    "plt.text(0.125,-0.02,'0.1',color='r',fontsize=14)\n",
    "plt.axvline(0.1, color='r', linestyle='--', linewidth=3)\n",
    "plt.axvline(-0.1, color='r', linestyle='--', linewidth=3)"
   ]
  },
  {
   "cell_type": "markdown",
   "metadata": {},
   "source": [
    "위 그림을 보면 배당이 +-0.1보다 크게 변동하는 경기에 베팅시 수익률이 급감하는 모습을 보인다. 따라서 배당이 +-0.1 범위 내에서 움직이는 경기에만 홈 승에 베팅하는 것이 좋다."
   ]
  },
  {
   "cell_type": "markdown",
   "metadata": {},
   "source": [
    "## 2.2. 2분 전 승 배당"
   ]
  },
  {
   "cell_type": "code",
   "execution_count": 47,
   "metadata": {},
   "outputs": [],
   "source": [
    "train=odds_under[features]\n",
    "lgb1,odds_under['win_prof']=get_pred(train,odds_under['win_bet_profit'],odds_under,param)"
   ]
  },
  {
   "cell_type": "code",
   "execution_count": 55,
   "metadata": {},
   "outputs": [
    {
     "data": {
      "image/png": "[encoded data removed]",
      "text/plain": [
       "<Figure size 360x360 with 1 Axes>"
      ]
     },
     "metadata": {
      "needs_background": "light"
     },
     "output_type": "display_data"
    }
   ],
   "source": [
    "temp=odds_under.loc[(odds_under['diff_2_firstwin']<0.1)&(odds_under['diff_2_firstwin']>-0.1)]\n",
    "\n",
    "temp=temp.rename(columns={'2_win':'2분 전 승 배당','win_prof':'승리에 걸었을 시 수익률'})\n",
    "\n",
    "\n",
    "sns.lmplot('2분 전 승 배당','승리에 걸었을 시 수익률',data=temp,order=2, line_kws=dict(linewidth=5),scatter=False)\n",
    "plt.xlabel('2분 전 승 배당',fontsize=15)\n",
    "plt.ylabel('수익률',fontsize=15)\n",
    "\n",
    "plt.axvline(1.8, color='r', linestyle='--', linewidth=3)\n",
    "plt.axhline(0, color='k', linewidth=1)\n",
    "plt.annotate(\"기준점 : 1.8\", xy=(1.8, 0.1), xytext=(1.2,0.1), arrowprops=dict(arrowstyle=\"->\",color='r',lw=2.5),color='r',fontsize=15)\n",
    "plt.yticks([-0.1, 0, 0.1 ,0.2 ,0.3], \n",
    "           ['-1%','0%','1%','2%','3%'],\n",
    "           fontsize=13\n",
    "          )\n",
    "plt.show()"
   ]
  },
  {
   "cell_type": "markdown",
   "metadata": {},
   "source": [
    "위 그림을 보면 2분전 배당이 1.8을 넘어가는 경기에 베팅 시 수익률이 급상승한다. 따라서 배당이 1.8 이상인 경기에만 홈 승에 베팅하는 것이 좋아 보인다."
   ]
  },
  {
   "cell_type": "markdown",
   "metadata": {},
   "source": [
    "## 2.3. 전략(홈 승 배당이 2.21보다 낮을 때)\n",
    "\n",
    "#### 1.\t베팅 마감 2분 전까지 배당의 변화 +-0.1 이내인 경기<br>2.\t베팅 마감 2분 전 홈 승 배당이 1.8을 넘는 경기\n",
    "#### 위의 두 가지 조건을 만족하는 경기에 “홈 승”을 픽"
   ]
  },
  {
   "cell_type": "markdown",
   "metadata": {},
   "source": [
    "## 2.4. 전략 수익률 테스트"
   ]
  },
  {
   "cell_type": "code",
   "execution_count": 58,
   "metadata": {},
   "outputs": [],
   "source": [
    "odds=pd.merge(odds,odds_change_raw[['game_link','game_date']].drop_duplicates(),on=['game_link'],how='left')\n",
    "odds['game_date']=pd.to_datetime(odds['game_date'].astype(str).str.slice(0,10))\n",
    "odds=odds.rename(columns={'game_date':'날짜'})\n",
    "odds['result']=odds['result'].map({2:'win',1:'draw',0:'lose'})"
   ]
  },
  {
   "cell_type": "code",
   "execution_count": 68,
   "metadata": {},
   "outputs": [
    {
     "data": {
      "image/png": "[encoded data removed]",
      "text/plain": [
       "<Figure size 720x504 with 1 Axes>"
      ]
     },
     "metadata": {
      "needs_background": "light"
     },
     "output_type": "display_data"
    }
   ],
   "source": [
    "profit=[]\n",
    "\n",
    "for i in range(len(odds)):\n",
    "    \n",
    "    if (np.abs(odds['diff_2_firstwin'].iloc[i])<0.1)&(odds['2_win'].iloc[i]>1.8)&(odds['final_win_bedang'].iloc[i]<2.21):\n",
    "        if odds['result'].iloc[i]=='win':\n",
    "            profit.append(odds['final_win_bedang'].iloc[i]-1)\n",
    "        else:\n",
    "            profit.append(-1)\n",
    "    else:\n",
    "        profit.append(np.nan)\n",
    "odds['profit']=profit\n",
    "\n",
    "\n",
    "plt.figure(figsize=(10, 7))\n",
    "odds.groupby(['날짜']).apply(lambda x: odds.loc[odds['날짜']<x['날짜'].iloc[0]]['profit'].mean()).plot()\n",
    "plt.title('시간에 따른 누적 수익률',fontsize=18)\n",
    "plt.annotate(\"        수익률 : 11.6% \\n 당첨금액/베팅금액 : 27.6\", xy=(pd.to_datetime('2019-09-24'), 0.1), xytext=(pd.to_datetime('2019-06-01'),-0.1), arrowprops=dict(arrowstyle=\"->\",color='r',lw=2.5),color='r',fontsize=15)\n",
    "\n",
    "plt.xlabel('날짜',fontsize=15)\n",
    "plt.ylabel('수익률',fontsize=15)\n",
    "\n",
    "plt.yticks([-1, -0.8, -0.6 ,-0.4 ,-0.2,0, 0.2], \n",
    "           ['-100%','-80%','-60%','-40%','-20%','0%','20%'],\n",
    "           fontsize=13\n",
    "          )\n",
    "\n",
    "plt.show()"
   ]
  },
  {
   "cell_type": "markdown",
   "metadata": {},
   "source": [
    "위의 전략대로 베팅 시뮬레이션을 돌려본 결과 2019년 1월부터 9월까지 승률 55.6%, 평균 수익률 11.6%을 기록했다."
   ]
  },
  {
   "cell_type": "markdown",
   "metadata": {},
   "source": [
    "# 3. 홈 승 배당이 2.21보다 높을 때(feat 역배)"
   ]
  },
  {
   "cell_type": "code",
   "execution_count": 20,
   "metadata": {},
   "outputs": [
    {
     "name": "stdout",
     "output_type": "stream",
     "text": [
      "100\n",
      "200\n",
      "300\n",
      "400\n",
      "500\n",
      "600\n",
      "700\n",
      "800\n",
      "900\n",
      "1000\n",
      "1100\n",
      "1200\n",
      "1300\n",
      "1400\n",
      "1500\n",
      "1600\n"
     ]
    }
   ],
   "source": [
    "agg_over={}\n",
    "index=0\n",
    "for temp_game_link in range(len(odds_over)):\n",
    "    index+=1\n",
    "    if index%100==0:\n",
    "        print(index)\n",
    "\n",
    "    agg_over[odds_over['game_link'].iloc[temp_game_link]]=val_data_shap_value(temp_game_link,['diff_2_60_win', '2_win'],odds_over)"
   ]
  },
  {
   "cell_type": "code",
   "execution_count": 21,
   "metadata": {},
   "outputs": [],
   "source": [
    "shap_impact_over=pd.concat(agg_over,ignore_index=True)"
   ]
  },
  {
   "cell_type": "markdown",
   "metadata": {},
   "source": [
    "## 3.1. 베팅마감 1시간 전부터 2분 전까지 홈 승 배당 변화"
   ]
  },
  {
   "cell_type": "code",
   "execution_count": 22,
   "metadata": {},
   "outputs": [
    {
     "data": {
      "text/plain": [
       "<matplotlib.lines.Line2D at 0x170e106eb70>"
      ]
     },
     "execution_count": 22,
     "metadata": {},
     "output_type": "execute_result"
    },
    {
     "data": {
      "image/png": "[encoded data removed]",
      "text/plain": [
       "<Figure size 432x288 with 1 Axes>"
      ]
     },
     "metadata": {
      "needs_background": "light"
     },
     "output_type": "display_data"
    }
   ],
   "source": [
    "impact=[]\n",
    "value=[]\n",
    "for i in range(40):\n",
    "    if len(shap_impact_over.loc[(shap_impact_over['diff_2_60_win_value']>=i*0.05-1)&(shap_impact_over['diff_2_60_win_value']<=i*0.05-1+0.05)])>10:\n",
    "        impact.append(shap_impact_over.loc[(shap_impact_over['diff_2_60_win_value']>=i*0.05-1)&(shap_impact_over['diff_2_60_win_value']<=i*0.05-1+0.05)]['diff_2_60_win_impact'].mean())\n",
    "        value.append((i*0.05-1+i*0.05-1+0.05)/2)\n",
    "        \n",
    "\n",
    "plt.plot(value,impact,linewidth=3)\n",
    "plt.axhline(0, color='k', linewidth=1)\n",
    "\n",
    "plt.xlabel('베팅마감 1시간 전부터 2분 전까지 홈 승 배당 변화',fontsize=15)\n",
    "plt.ylabel('수익률',fontsize=15)\n",
    "plt.yticks([-0.01,0,0.01,0.02], \n",
    "           ['-1%','0%','1%','2%'],\n",
    "           fontsize=13\n",
    "          )\n",
    "plt.xticks([-0.3,-0.2,-0.1,0,0.1,0.2,0.3,0.4,0.5], \n",
    "           ['-0.3','-0.2','-0.1','0','0.1','0.2','0.3','0.4','0.5'],\n",
    "           fontsize=13\n",
    "          )\n",
    "\n",
    "# plt.text(-0.05,0.005,'0.1',color='r',fontsize=14)\n",
    "plt.annotate(\"0.05\", xy=(0.05,0.005), xytext=(-0.1,0.005), arrowprops=dict(arrowstyle=\"->\",color='r',lw=2.5),color='r',fontsize=15)\n",
    "\n",
    "plt.axvline(0.05, color='r', linestyle='--', linewidth=3)"
   ]
  },
  {
   "cell_type": "markdown",
   "metadata": {},
   "source": [
    "위 그림을 보면 0.05보다 큰 폭으로 상승하는 경기에 베팅시 수익률이 좋다. 따라서 배당이 1시간 전부터 2분전까지 0.05보다 크게 증가하는 경기에만 홈 승에 베팅하는 것이 수익률이 극대화되는 방향이다."
   ]
  },
  {
   "cell_type": "markdown",
   "metadata": {},
   "source": [
    "## 3.2. 2분 전 승 배당"
   ]
  },
  {
   "cell_type": "code",
   "execution_count": 40,
   "metadata": {},
   "outputs": [
    {
     "data": {
      "text/plain": [
       "<matplotlib.lines.Line2D at 0x170e17359b0>"
      ]
     },
     "execution_count": 40,
     "metadata": {},
     "output_type": "execute_result"
    },
    {
     "data": {
      "image/png": "[encoded data removed]",
      "text/plain": [
       "<Figure size 432x288 with 1 Axes>"
      ]
     },
     "metadata": {
      "needs_background": "light"
     },
     "output_type": "display_data"
    }
   ],
   "source": [
    "impact=[]\n",
    "value=[]\n",
    "for i in range(40):\n",
    "    if len(shap_impact_over.loc[(shap_impact_over['2_win_value']>=i*0.5+2)&(shap_impact_over['2_win_value']<=i*0.5+0.5+2)])>5:\n",
    "        impact.append(shap_impact_over.loc[(shap_impact_over['2_win_value']>=i*0.5+2)&(shap_impact_over['2_win_value']<=i*0.5+0.5+2)]['2_win_impact'].mean())\n",
    "        value.append((i*0.5+2+i*0.5+0.5+2)/2)\n",
    "\n",
    "        \n",
    "\n",
    "plt.plot(value,impact,linewidth=3)\n",
    "plt.axhline(0, color='k', linewidth=1)\n",
    "\n",
    "plt.xlabel('2분 전 승 배당',fontsize=15)\n",
    "plt.ylabel('수익률',fontsize=15)\n",
    "plt.yticks([-0.01,0,0.01], \n",
    "           ['-1%','0%','1%'],\n",
    "           fontsize=13\n",
    "          )\n",
    "plt.xticks([3,4,5,6,7,8,9,10,11],#[1.5,2.5,3.5,4.5,5.5,6.5,7.5,8.5,9.5], \n",
    "           ['3','4','5','6','7','8','9','10','11'],\n",
    "           fontsize=13\n",
    "          )\n",
    "\n",
    "# # plt.text(-0.05,0.005,'0.1',color='r',fontsize=14)\n",
    "plt.annotate(\"7.5\", xy=(6,0.005), xytext=(4,0.005), arrowprops=dict(arrowstyle=\"->\",color='r',lw=2.5),color='r',fontsize=15)\n",
    "\n",
    "plt.axvline(6, color='r', linestyle='--', linewidth=3)"
   ]
  },
  {
   "cell_type": "markdown",
   "metadata": {},
   "source": [
    "위 그림을 보면 2분전 홈 승 배당이 7.5을 넘어가는 경기에 베팅 시 수익률이 급감하는 모습을 보인다. 따라서 7.5 이하인 경기에 홈 승을 베팅하는 것이 좋다."
   ]
  },
  {
   "cell_type": "markdown",
   "metadata": {},
   "source": [
    "## 3.3. 전략(홈 승 배당이 2.21보다 높을 때)\n",
    "\n",
    "#### 1.\t배당이 1시간전부터 2분 전까지 0.05 이상 오르는 경기<br>2.\t2분 전 홈 승 배당이 7.5 이하인 경기\n",
    "#### 위의 두 가지 조건을 만족하는 경기에 “홈 승”을 픽"
   ]
  },
  {
   "cell_type": "code",
   "execution_count": 74,
   "metadata": {},
   "outputs": [
    {
     "data": {
      "image/png": "[encoded data removed]",
      "text/plain": [
       "<Figure size 720x504 with 1 Axes>"
      ]
     },
     "metadata": {
      "needs_background": "light"
     },
     "output_type": "display_data"
    }
   ],
   "source": [
    "profit=[]\n",
    "\n",
    "for i in range(len(odds)):\n",
    "    \n",
    "    if (odds['2_win'].iloc[i]<7.5)&(odds['diff_2_60_win'].iloc[i]>0.05)&(odds['final_win_bedang'].iloc[i]>2.21):\n",
    "        if odds['result'].iloc[i]=='win':\n",
    "            profit.append(odds['final_win_bedang'].iloc[i]-1)\n",
    "        else:\n",
    "            profit.append(-1)\n",
    "    else:\n",
    "        profit.append(np.nan)\n",
    "odds['profit']=profit\n",
    "\n",
    "\n",
    "plt.figure(figsize=(10, 7))\n",
    "odds.groupby(['날짜']).apply(lambda x: odds.loc[odds['날짜']<x['날짜'].iloc[0]]['profit'].mean()).plot()\n",
    "plt.title('시간에 따른 누적 수익률',fontsize=18)\n",
    "plt.annotate(\"        수익률 : 23.4% \\n 당첨금액/베팅금액 : 84.15\", xy=(pd.to_datetime('2019-09-24'), 0.21), xytext=(pd.to_datetime('2019-06-01'),-0.05), arrowprops=dict(arrowstyle=\"->\",color='r',lw=2.5),color='r',fontsize=15)\n",
    "\n",
    "plt.xlabel('날짜',fontsize=15)\n",
    "plt.ylabel('수익률',fontsize=15)\n",
    "\n",
    "plt.yticks([-1, -0.8, -0.6 ,-0.4 ,-0.2,0, 0.2], \n",
    "           ['-100%','-80%','-60%','-40%','-20%','0%','20%'],\n",
    "           fontsize=13\n",
    "          )\n",
    "\n",
    "plt.show()"
   ]
  },
  {
   "cell_type": "markdown",
   "metadata": {},
   "source": [
    "위의 전략대로 베팅 시뮬레이션을 돌려본 결과 2019년 1월부터 9월까지 승률 34.5%, 수익률 23.4%을 기록했다."
   ]
  },
  {
   "cell_type": "markdown",
   "metadata": {},
   "source": [
    "# 4. 위의 두 전략 모두 활용 시 수익률"
   ]
  },
  {
   "cell_type": "code",
   "execution_count": 77,
   "metadata": {},
   "outputs": [
    {
     "name": "stdout",
     "output_type": "stream",
     "text": [
      "수익률 : 18.75%\n"
     ]
    }
   ],
   "source": [
    "profit=[]\n",
    "for i in range(len(odds)):\n",
    "    if ((odds['2_win'].iloc[i]<7.5)&(odds['diff_2_60_win'].iloc[i]>0.05)&(odds['final_win_bedang'].iloc[i]>2.21))|((np.abs(odds['diff_2_firstwin'].iloc[i])<0.1)&(odds['2_win'].iloc[i]>1.8)&(odds['final_win_bedang'].iloc[i]<2.21)):\n",
    "        if odds['result'].iloc[i]=='win':\n",
    "            profit.append(odds['final_win_bedang'].iloc[i]-1)\n",
    "        else:\n",
    "            profit.append(-1)\n",
    "print('수익률 : ' +str(np.mean(profit)*100)+'%')#+', 합은 '+str(np.sum(profit)))"
   ]
  },
  {
   "cell_type": "markdown",
   "metadata": {},
   "source": [
    "위의 전략들을 모두 사용해 조건에 맞는 경우 홈 팀에 베팅하는 시뮬레이션을 돌려본 결과 2019년 1월부터 9월까지 평균 수익률 18.75%을 기록했다."
   ]
  }
 ],
 "metadata": {
  "kernelspec": {
   "display_name": "Python 3",
   "language": "python",
   "name": "python3"
  },
  "language_info": {
   "codemirror_mode": {
    "name": "ipython",
    "version": 3
   },
   "file_extension": ".py",
   "mimetype": "text/x-python",
   "name": "python",
   "nbconvert_exporter": "python",
   "pygments_lexer": "ipython3",
   "version": "3.7.3"
  }
 },
 "nbformat": 4,
 "nbformat_minor": 2
}
